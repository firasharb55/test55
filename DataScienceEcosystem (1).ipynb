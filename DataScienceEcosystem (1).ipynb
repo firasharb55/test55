{
 "cells": [
  {
   "cell_type": "markdown",
   "id": "5212ab95-bd66-4165-b676-7b6fd4015d76",
   "metadata": {},
   "source": [
    "#Data Science Tools and Ecosystem"
   ]
  },
  {
   "cell_type": "markdown",
   "id": "45f8cde8-27e9-4f16-9605-250b4a231f5b",
   "metadata": {},
   "source": [
    "In this notebook, Data Science Tools and Ecosystem are summarized."
   ]
  },
  {
   "cell_type": "markdown",
   "id": "e0cc709c-f76c-4765-89c4-d638c42fdcc8",
   "metadata": {},
   "source": [
    "__Objectives:\n",
    " *List popular languages for Data Science\n",
    " *Libraries\n",
    " *Github\n",
    " *R\n",
    " "
   ]
  },
  {
   "cell_type": "markdown",
   "id": "a78b077f-8f87-48a1-bd60-988c1a926b84",
   "metadata": {},
   "source": [
    "Some of the popular languages that Data Scientists use are:\n",
    "1-Python\n",
    "2-R\n",
    "3-javascript\n",
    "4-C++"
   ]
  },
  {
   "cell_type": "markdown",
   "id": "a9e58905-c182-414e-8299-ba2fd75952d4",
   "metadata": {},
   "source": [
    "Some of the commonly used libraries used by Data Scientists include:\n"
   ]
  },
  {
   "cell_type": "markdown",
   "id": "ce8d815b-4dae-45ad-a750-b7dbefe7edb9",
   "metadata": {},
   "source": [
    "1-Pandas\n",
    "2-Numpy\n",
    "3-MatPlotLib"
   ]
  },
  {
   "cell_type": "markdown",
   "id": "c1c5bbc1-bf59-4850-a2f5-164407c8331a",
   "metadata": {},
   "source": [
    "Data Science Tools:\n",
    "1-RStudio\n",
    "2-Apache Spark\n",
    "3-TensorFlow"
   ]
  },
  {
   "cell_type": "markdown",
   "id": "43a2f742-c067-4c2a-a72f-ddc6d1f80ab3",
   "metadata": {},
   "source": [
    "###Below are a few examples of evaluating arithmetic expressions in Python."
   ]
  },
  {
   "cell_type": "markdown",
   "id": "6fcbec8a-63a0-4cd5-a4a2-7aa9319172bb",
   "metadata": {},
   "source": [
    "This a simple arithmetic expression to mutiply then add integers:"
   ]
  },
  {
   "cell_type": "code",
   "execution_count": 1,
   "id": "07ece5e3-8edb-4026-b27d-432a4b80acb8",
   "metadata": {
    "tags": []
   },
   "outputs": [
    {
     "data": {
      "text/plain": [
       "17"
      ]
     },
     "execution_count": 1,
     "metadata": {},
     "output_type": "execute_result"
    }
   ],
   "source": [
    "(3*4)+5\n"
   ]
  },
  {
   "cell_type": "markdown",
   "id": "bff936d5-30a3-4f73-9bd4-626998c30724",
   "metadata": {},
   "source": [
    "This will convert 200 minutes to hours by diving by 60"
   ]
  },
  {
   "cell_type": "code",
   "execution_count": 2,
   "id": "ea0c82f6-5f62-464f-a2a0-cbaf55b03e1c",
   "metadata": {
    "tags": []
   },
   "outputs": [
    {
     "data": {
      "text/plain": [
       "3.3333333333333335"
      ]
     },
     "execution_count": 2,
     "metadata": {},
     "output_type": "execute_result"
    }
   ],
   "source": [
    "200/60"
   ]
  },
  {
   "cell_type": "markdown",
   "id": "22bff51e-3968-4e9b-bf39-25863b4b3799",
   "metadata": {},
   "source": [
    "**Author"
   ]
  },
  {
   "cell_type": "markdown",
   "id": "7ac2c403-2fff-4231-95d1-40d142d782cc",
   "metadata": {},
   "source": [
    "  firas harb"
   ]
  }
 ],
 "metadata": {
  "kernelspec": {
   "display_name": "Python",
   "language": "python",
   "name": "conda-env-python-py"
  },
  "language_info": {
   "codemirror_mode": {
    "name": "ipython",
    "version": 3
   },
   "file_extension": ".py",
   "mimetype": "text/x-python",
   "name": "python",
   "nbconvert_exporter": "python",
   "pygments_lexer": "ipython3",
   "version": "3.7.12"
  }
 },
 "nbformat": 4,
 "nbformat_minor": 5
}
