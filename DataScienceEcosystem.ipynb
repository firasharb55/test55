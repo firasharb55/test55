{
 "cells": [
  {
   "cell_type": "markdown",
   "id": "5212ab95-bd66-4165-b676-7b6fd4015d76",
   "metadata": {},
   "source": [
    "#Data Science Tools and Ecosystem"
   ]
  },
  {
   "cell_type": "markdown",
   "id": "45f8cde8-27e9-4f16-9605-250b4a231f5b",
   "metadata": {},
   "source": [
    "In this notebook, Data Science Tools and Ecosystem are summarized."
   ]
  },
  {
   "cell_type": "markdown",
   "id": "e0cc709c-f76c-4765-89c4-d638c42fdcc8",
   "metadata": {},
   "source": [
    "__Objectives:\n",
    " *List popular languages for Data Science\n",
    " *Libraries\n",
    " *Github\n",
    " *R\n",
    " "
   ]
  },
  {
   "cell_type": "raw",
   "id": "526d7d42-148e-4936-ac28-9e6585381c3d",
   "metadata": {},
   "source": [
    "Some of the popular languages that Data Scientists use are:\n",
    "1-Python\n",
    "2-R\n",
    "3-javascript\n",
    "4-C++"
   ]
  },
  {
   "cell_type": "raw",
   "id": "f8407336-0005-400c-92c9-41549742f92e",
   "metadata": {},
   "source": [
    "Some of the commonly used libraries used by Data Scientists include:\n"
   ]
  },
  {
   "cell_type": "raw",
   "id": "6964c76d-27ef-458f-8f1e-d367a52d5a1a",
   "metadata": {},
   "source": [
    "1-Pandas\n",
    "2-Numpy\n",
    "3-MatPlotLib"
   ]
  },
  {
   "cell_type": "raw",
   "id": "4dfb7652-c973-44bc-81f4-8b34f8cf204b",
   "metadata": {},
   "source": [
    "Data Science Tools:\n",
    "1-RStudio\n",
    "2-Apache Spark\n",
    "3-TensorFlow"
   ]
  },
  {
   "cell_type": "markdown",
   "id": "43a2f742-c067-4c2a-a72f-ddc6d1f80ab3",
   "metadata": {},
   "source": [
    "###Below are a few examples of evaluating arithmetic expressions in Python."
   ]
  },
  {
   "cell_type": "raw",
   "id": "7a599f6c-8516-44e9-80f4-9a5788335519",
   "metadata": {},
   "source": [
    "This a simple arithmetic expression to mutiply then add integers:"
   ]
  },
  {
   "cell_type": "code",
   "execution_count": 1,
   "id": "07ece5e3-8edb-4026-b27d-432a4b80acb8",
   "metadata": {
    "tags": []
   },
   "outputs": [
    {
     "data": {
      "text/plain": [
       "17"
      ]
     },
     "execution_count": 1,
     "metadata": {},
     "output_type": "execute_result"
    }
   ],
   "source": [
    "(3*4)+5\n"
   ]
  },
  {
   "cell_type": "raw",
   "id": "789063da-0f98-4915-a374-c8a4ab84ebe0",
   "metadata": {},
   "source": [
    "This will convert 200 minutes to hours by diving by 60"
   ]
  },
  {
   "cell_type": "code",
   "execution_count": 2,
   "id": "ea0c82f6-5f62-464f-a2a0-cbaf55b03e1c",
   "metadata": {
    "tags": []
   },
   "outputs": [
    {
     "data": {
      "text/plain": [
       "3.3333333333333335"
      ]
     },
     "execution_count": 2,
     "metadata": {},
     "output_type": "execute_result"
    }
   ],
   "source": [
    "200/60"
   ]
  },
  {
   "cell_type": "markdown",
   "id": "22bff51e-3968-4e9b-bf39-25863b4b3799",
   "metadata": {},
   "source": [
    "**Author"
   ]
  },
  {
   "cell_type": "raw",
   "id": "a3fd05f9-3209-4810-a7a8-529c16157866",
   "metadata": {},
   "source": [
    "  firas harb"
   ]
  }
 ],
 "metadata": {
  "kernelspec": {
   "display_name": "Python",
   "language": "python",
   "name": "conda-env-python-py"
  },
  "language_info": {
   "codemirror_mode": {
    "name": "ipython",
    "version": 3
   },
   "file_extension": ".py",
   "mimetype": "text/x-python",
   "name": "python",
   "nbconvert_exporter": "python",
   "pygments_lexer": "ipython3",
   "version": "3.7.12"
  }
 },
 "nbformat": 4,
 "nbformat_minor": 5
}
